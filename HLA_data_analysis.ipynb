{
 "cells": [
  {
   "cell_type": "code",
   "execution_count": null,
   "metadata": {},
   "outputs": [],
   "source": [
    "import csv\n",
    "import os\n",
    "import numpy as np\n",
    "import pandas as pd\n",
    "\n",
    "#Screen files based on certain HLA\n",
    "\n",
    "search_for = ['HLA-A*11:01', 'HLA-A*25:01', 'HLA-B*49:01', 'HLA-B*55:01'] #add as many HLA\n",
    "\n",
    "\n",
    "with open('file.csv', 'r') as inf, open('file.csv','w') as outf:\n",
    "    reader = csv.reader(inf)\n",
    "    writer = csv.writer(outf, delimiter='\\t', quotechar='\"', quoting=csv.QUOTE_MINIMAL)\n",
    "    for row in reader:\n",
    "        if row[18] in search_for:\n",
    "            print('Found: {}'.format(row))\n",
    "            \n",
    "            writer.writerow(row)\n",
    "            \n",
    "#Add headers\n",
    "file = pd.read_csv('file.csv', delimiter='\\t', names = ['Matches_Sample', 'Rank_Sample', 'Frequency_Sample', 'Count_Sample', 'CDR3aa_Sample', 'V_Sample', 'J_Sample', 'CDR3nt_Sample', 'vEnd_Sample', 'jStart_Sample', 'complex_id_DB', 'Match_Score', 'Weight', 'Gene_DB', 'CDR3_DB', 'V_DB', 'J_DB', 'Species_DB', 'MHC_A_DB', 'MHC_B_DB', 'MHC_class_DB', 'Epitope_DB', 'Epitope_gene_DB', 'Epitope_species_DB', 'Reference_DB', 'Method_DB', 'Meta_DB', 'CDR3fix_DB', 'Score_DB'])\n",
    "print(file)\n",
    "\n",
    "file.to_csv('file.csv')\n",
    "\n"
   ]
  },
  {
   "cell_type": "code",
   "execution_count": 3,
   "metadata": {},
   "outputs": [],
   "source": [
    "#Check epitope gene and species and CDR3 sequences.\n",
    "#to remove duplicate CDR3nt\n",
    "# From the cehecked file Remove duplicate CDR3nt sequences \n",
    "record = pd.read_csv('file.csv')\n",
    "df = record.drop_duplicates('CDR3nt_Sample')#, keep='first')\n",
    "print(df)\n",
    "df.to_csv('file.csv')\n"
   ]
  },
  {
   "cell_type": "code",
   "execution_count": 32,
   "metadata": {},
   "outputs": [],
   "source": [
    "#To select certain column for the manuscript 'optional'\n",
    "import csv\n",
    "import os\n",
    "import numpy as np\n",
    "import pandas as pd\n",
    "#Select certain columns\n",
    "record = pd.read_csv('file.csv')\n",
    "header = [\"CDR3aa_Sample\", \"V_Sample\", \"J_Sample\", \"CDR3_DB\", \"V_DB\", \"J_DB\", \"MHC_A_DB\", \"Epitope_DB\", \"Epitope_gene_DB\", \"Epitope_species_DB\"]\n",
    "record.to_csv('file.csv', columns = header)"
   ]
  },
  {
   "cell_type": "code",
   "execution_count": 24,
   "metadata": {},
   "outputs": [],
   "source": [
    "#for counting epitope species\n",
    "import pandas as pd\n",
    "record = pd.read_csv('file.csv')\n",
    "#record.head() \n",
    "df = record[[\"Count_Sample\", \"Epitope_species_DB\"]]\n",
    "df\n",
    "#All antigens\n",
    "df.to_csv('/file.csv')\n",
    "#Top10 antigen\n",
    "df = df.iloc[:10]\n",
    "df\n",
    "df.to_csv('file.csv')\n"
   ]
  },
  {
   "cell_type": "code",
   "execution_count": 25,
   "metadata": {},
   "outputs": [],
   "source": [
    "#for meta data analysis (for R graphics)\n",
    "import pandas as pd\n",
    "record = pd.read_csv('file.csv')\n",
    "\n",
    "df_all = record['Epitope_species_DB'].value_counts()\n",
    "df_all\n",
    "\n",
    "df_all.to_csv('file.csv', header=None)\n",
    "record = pd.read_csv('file.csv')\n",
    "df_top10 = record['Epitope_species_DB'].value_counts()\n",
    "df_top10\n",
    "df_top10.to_csv('file.csv', header=None)\n"
   ]
  },
  {
   "cell_type": "code",
   "execution_count": null,
   "metadata": {},
   "outputs": [],
   "source": [
    "            \n",
    "import pandas as pd\n",
    "#Add headers to competible for R\n",
    "file_all = pd.read_csv('file.csv',  names = ['Epitope species', 'Count'])\n",
    "file_all\n",
    "print(file_all)\n",
    "file_all.to_csv('file.csv')"
   ]
  },
  {
   "cell_type": "code",
   "execution_count": null,
   "metadata": {},
   "outputs": [],
   "source": [
    "import pandas as pd\n",
    "#Add headers to competible for R\n",
    "file_top10 = pd.read_csv('file.csv',  names = ['Epitope species', 'Count'])\n",
    "file_top10\n",
    "print(file_top10)\n",
    "file_top10.to_csv('/file.csv')"
   ]
  },
  {
   "cell_type": "code",
   "execution_count": null,
   "metadata": {},
   "outputs": [],
   "source": []
  }
 ],
 "metadata": {
  "kernelspec": {
   "display_name": "Python 3.8.5 64-bit ('base': conda)",
   "name": "python385jvsc74a57bd09c49c733c021723d196ac720a4ef957ac0cd12fc16dcaec74fb708731994343e"
  },
  "language_info": {
   "codemirror_mode": {
    "name": "ipython",
    "version": 3
   },
   "file_extension": ".py",
   "mimetype": "text/x-python",
   "name": "python",
   "nbconvert_exporter": "python",
   "pygments_lexer": "ipython3",
   "version": "3.8.5"
  },
  "orig_nbformat": 3
 },
 "nbformat": 4,
 "nbformat_minor": 2
}
