{
 "cells": [
  {
   "cell_type": "code",
   "execution_count": 1,
   "metadata": {},
   "outputs": [
    {
     "name": "stdout",
     "output_type": "stream",
     "text": [
      "Found: ['4', '381', '2.58E-04', '150', 'CASSLGQGVFYTF', 'TRBV5-1', 'TRBJ1-2', 'TGCGCCAGCAGCTTGGGACAGGGAGTCTTCTACACCTTC', '15', '29', '3489', '0', '1', 'TRB', 'CASSLGQGVFYTF', 'TRBV5-1*01', 'TRBJ1-2*01', 'HomoSapiens', 'HLA-A*11:01', 'B2M', 'MHCI', 'IVTDFSVIK', 'EBNA4', 'EBV', 'https://www.10xgenomics.com/resources/application-notes/a-new-way-of-exploring-immunity-linking-highly-multiplexed-antigen-recognition-to-immune-repertoire-and-phenotype/#', '{\"frequency\": \"1/11684\", \"identification\": \"dextramer-sort\", \"sequencing\": \"rna-seq\", \"singlecell\": \"yes\", \"verification\": \"\"}', '{\"cell.subset\": \"\", \"clone.id\": \"\", \"donor.MHC\": \"\", \"donor.MHC.method\": \"\", \"epitope.id\": \"\", \"replica.id\": \"\", \"samples.found\": 1, \"structure.id\": \"\", \"studies.found\": 1, \"study.id\": \"\", \"subject.cohort\": \"\", \"subject.id\": \"1\", \"tissue\": \"\"}', '{\"cdr3\": \"CASSLGQGVFYTF\", \"cdr3_old\": \"CASSLGQGVFYTF\", \"fixNeeded\": false, \"good\": true, \"jCanonical\": true, \"jFixType\": \"NoFixNeeded\", \"jId\": \"TRBJ1-2*01\", \"jStart\": 10, \"vCanonical\": true, \"vEnd\": 5, \"vFixType\": \"NoFixNeeded\", \"vId\": \"TRBV5-1*01\"}', '0']\n",
      "Found: ['4', '381', '2.58E-04', '150', 'CASSLGQGVFYTF', 'TRBV5-1', 'TRBJ1-2', 'TGCGCCAGCAGCTTGGGACAGGGAGTCTTCTACACCTTC', '15', '29', '2806', '0', '1', 'TRB', 'CASSLGQGVFYTF', 'TRBV5-1*01', 'TRBJ1-2*01', 'HomoSapiens', 'HLA-A*11:01', 'B2M', 'MHCI', 'IVTDFSVIK', 'EBNA4', 'EBV', 'https://www.10xgenomics.com/resources/application-notes/a-new-way-of-exploring-immunity-linking-highly-multiplexed-antigen-recognition-to-immune-repertoire-and-phenotype/#', '{\"frequency\": \"16/11684\", \"identification\": \"dextramer-sort\", \"sequencing\": \"rna-seq\", \"singlecell\": \"yes\", \"verification\": \"\"}', '{\"cell.subset\": \"\", \"clone.id\": \"\", \"donor.MHC\": \"\", \"donor.MHC.method\": \"\", \"epitope.id\": \"\", \"replica.id\": \"\", \"samples.found\": 1, \"structure.id\": \"\", \"studies.found\": 1, \"study.id\": \"\", \"subject.cohort\": \"\", \"subject.id\": \"1\", \"tissue\": \"\"}', '{\"cdr3\": \"CASSLGQGVFYTF\", \"cdr3_old\": \"CASSLGQGVFYTF\", \"fixNeeded\": false, \"good\": true, \"jCanonical\": true, \"jFixType\": \"NoFixNeeded\", \"jId\": \"TRBJ1-2*01\", \"jStart\": 10, \"vCanonical\": true, \"vEnd\": 5, \"vFixType\": \"NoFixNeeded\", \"vId\": \"TRBV5-1*01\"}', '0']\n",
      "Found: ['4', '381', '2.58E-04', '150', 'CASSLGQGVFYTF', 'TRBV5-1', 'TRBJ1-2', 'TGCGCCAGCAGCTTGGGACAGGGAGTCTTCTACACCTTC', '15', '29', '2518', '0', '1', 'TRB', 'CASSLGQGVFYTF', 'TRBV5-1*01', 'TRBJ1-2*01', 'HomoSapiens', 'HLA-A*11:01', 'B2M', 'MHCI', 'IVTDFSVIK', 'EBNA4', 'EBV', 'https://www.10xgenomics.com/resources/application-notes/a-new-way-of-exploring-immunity-linking-highly-multiplexed-antigen-recognition-to-immune-repertoire-and-phenotype/#', '{\"frequency\": \"1/11684\", \"identification\": \"dextramer-sort\", \"sequencing\": \"rna-seq\", \"singlecell\": \"yes\", \"verification\": \"\"}', '{\"cell.subset\": \"\", \"clone.id\": \"\", \"donor.MHC\": \"\", \"donor.MHC.method\": \"\", \"epitope.id\": \"\", \"replica.id\": \"\", \"samples.found\": 1, \"structure.id\": \"\", \"studies.found\": 1, \"study.id\": \"\", \"subject.cohort\": \"\", \"subject.id\": \"1\", \"tissue\": \"\"}', '{\"cdr3\": \"CASSLGQGVFYTF\", \"cdr3_old\": \"CASSLGQGVFYTF\", \"fixNeeded\": false, \"good\": true, \"jCanonical\": true, \"jFixType\": \"NoFixNeeded\", \"jId\": \"TRBJ1-2*01\", \"jStart\": 10, \"vCanonical\": true, \"vEnd\": 5, \"vFixType\": \"NoFixNeeded\", \"vId\": \"TRBV5-1*01\"}', '0']\n",
      "Found: ['4', '381', '2.58E-04', '150', 'CASSLGQGVFYTF', 'TRBV5-1', 'TRBJ1-2', 'TGCGCCAGCAGCTTGGGACAGGGAGTCTTCTACACCTTC', '15', '29', '4055', '0', '1', 'TRB', 'CASSLGQGVFYTF', 'TRBV5-1*01', 'TRBJ1-2*01', 'HomoSapiens', 'HLA-A*11:01', 'B2M', 'MHCI', 'IVTDFSVIK', 'EBNA4', 'EBV', 'https://www.10xgenomics.com/resources/application-notes/a-new-way-of-exploring-immunity-linking-highly-multiplexed-antigen-recognition-to-immune-repertoire-and-phenotype/#', '{\"frequency\": \"1/11684\", \"identification\": \"dextramer-sort\", \"sequencing\": \"rna-seq\", \"singlecell\": \"yes\", \"verification\": \"\"}', '{\"cell.subset\": \"\", \"clone.id\": \"\", \"donor.MHC\": \"\", \"donor.MHC.method\": \"\", \"epitope.id\": \"\", \"replica.id\": \"\", \"samples.found\": 1, \"structure.id\": \"\", \"studies.found\": 1, \"study.id\": \"\", \"subject.cohort\": \"\", \"subject.id\": \"1\", \"tissue\": \"\"}', '{\"cdr3\": \"CASSLGQGVFYTF\", \"cdr3_old\": \"CASSLGQGVFYTF\", \"fixNeeded\": false, \"good\": true, \"jCanonical\": true, \"jFixType\": \"NoFixNeeded\", \"jId\": \"TRBJ1-2*01\", \"jStart\": 10, \"vCanonical\": true, \"vEnd\": 5, \"vFixType\": \"NoFixNeeded\", \"vId\": \"TRBV5-1*01\"}', '0']\n",
      "Found: ['2', '988', '1.64E-04', '95', 'CASSLGNTEAFF', 'TRBV5-1', 'TRBJ1-1', 'TGCGCCAGCAGCTTGGGGAACACTGAAGCTTTCTTT', '15', '17', '4808', '0', '1', 'TRB', 'CASSLGNTEAFF', 'TRBV5-1*01', 'TRBJ1-1*01', 'HomoSapiens', 'HLA-A*11:01', 'B2M', 'MHCI', 'AVFDRKSDAK', 'EBNA4', 'EBV', 'https://www.10xgenomics.com/resources/application-notes/a-new-way-of-exploring-immunity-linking-highly-multiplexed-antigen-recognition-to-immune-repertoire-and-phenotype/#', '{\"frequency\": \"1/11684\", \"identification\": \"dextramer-sort\", \"sequencing\": \"rna-seq\", \"singlecell\": \"yes\", \"verification\": \"\"}', '{\"cell.subset\": \"\", \"clone.id\": \"\", \"donor.MHC\": \"\", \"donor.MHC.method\": \"\", \"epitope.id\": \"\", \"replica.id\": \"\", \"samples.found\": 1, \"structure.id\": \"\", \"studies.found\": 1, \"study.id\": \"\", \"subject.cohort\": \"\", \"subject.id\": \"1\", \"tissue\": \"\"}', '{\"cdr3\": \"CASSLGNTEAFF\", \"cdr3_old\": \"CASSLGNTEAFF\", \"fixNeeded\": false, \"good\": true, \"jCanonical\": true, \"jFixType\": \"NoFixNeeded\", \"jId\": \"TRBJ1-1*01\", \"jStart\": 6, \"vCanonical\": true, \"vEnd\": 5, \"vFixType\": \"NoFixNeeded\", \"vId\": \"TRBV5-1*01\"}', '0']\n",
      "Found: ['2', '5637', '1.72E-05', '10', 'CASSLGQGSYEQYF', 'TRBV11-2', 'TRBJ2-7', 'TGTGCCAGCAGCTTGGGACAGGGGTCCTACGAGCAGTACTTC', '13', '24', '451', '0', '1', 'TRB', 'CASSLGQGSYEQYF', 'TRBV11-2*01', 'TRBJ2-7*01', 'HomoSapiens', 'HLA-A*11:01', 'B2M', 'MHCI', 'GTSGSPIVNR', 'NS3', 'DENV1', 'PMID:28945243', '{\"frequency\": \"\", \"identification\": \"tetramer-sort,cultured-T-cells\", \"sequencing\": \"amplicon-seq\", \"singlecell\": \"\", \"verification\": \"antigen-loaded-targets\"}', '{\"cell.subset\": \"CD3+CD8+CD14-CD19-\", \"clone.id\": \"44-173-13\", \"donor.MHC\": \"\", \"donor.MHC.method\": \"\", \"epitope.id\": \"22825\", \"replica.id\": \"\", \"samples.found\": 1, \"structure.id\": \"\", \"studies.found\": 1, \"study.id\": \"\", \"subject.cohort\": \"\", \"subject.id\": \"\", \"tissue\": \"TCL\"}', '{\"cdr3\": \"CASSLGQGSYEQYF\", \"cdr3_old\": \"CASSLGQGSYEQY\", \"fixNeeded\": true, \"good\": true, \"jCanonical\": true, \"jFixType\": \"Realign\", \"jId\": \"TRBJ2-7*01\", \"jStart\": 8, \"oldJFixType\": \"FixAdd\", \"oldJStart\": 9, \"vCanonical\": true, \"vEnd\": 5, \"vFixType\": \"NoFixNeeded\", \"vId\": \"TRBV11-2*01\"}', '2']\n",
      "Found: ['2', '5637', '1.72E-05', '10', 'CASSLGQGSYEQYF', 'TRBV11-2', 'TRBJ2-7', 'TGTGCCAGCAGCTTGGGACAGGGGTCCTACGAGCAGTACTTC', '13', '24', '452', '0', '1', 'TRB', 'CASSLGQGSYEQYF', 'TRBV11-2*01', 'TRBJ2-7*01', 'HomoSapiens', 'HLA-A*11:01', 'B2M', 'MHCI', 'GTSGSPIINR', 'NS3', 'DENV3/4', 'PMID:28945243', '{\"frequency\": \"\", \"identification\": \"tetramer-sort,cultured-T-cells\", \"sequencing\": \"amplicon-seq\", \"singlecell\": \"\", \"verification\": \"antigen-loaded-targets\"}', '{\"cell.subset\": \"CD3+CD8+CD14-CD19-\", \"clone.id\": \"44-173-13\", \"donor.MHC\": \"\", \"donor.MHC.method\": \"\", \"epitope.id\": \"22820\", \"replica.id\": \"\", \"samples.found\": 1, \"structure.id\": \"\", \"studies.found\": 1, \"study.id\": \"\", \"subject.cohort\": \"\", \"subject.id\": \"\", \"tissue\": \"TCL\"}', '{\"cdr3\": \"CASSLGQGSYEQYF\", \"cdr3_old\": \"CASSLGQGSYEQY\", \"fixNeeded\": true, \"good\": true, \"jCanonical\": true, \"jFixType\": \"Realign\", \"jId\": \"TRBJ2-7*01\", \"jStart\": 8, \"oldJFixType\": \"FixAdd\", \"oldJStart\": 9, \"vCanonical\": true, \"vEnd\": 5, \"vFixType\": \"NoFixNeeded\", \"vId\": \"TRBV11-2*01\"}', '2']\n"
     ]
    }
   ],
   "source": [
    "\n",
    "import csv\n",
    "import os\n",
    "import numpy as np\n",
    "import pandas as pd\n",
    "\n",
    "#Screen files based on certain HLA\n",
    "\n",
    "search_for = ['HLA-A*11:01', 'HLA-A*25:01', 'HLA-B*49:01', 'HLA-B*55:01'] #add as many HLA\n",
    "\n",
    "\n",
    "with open('file.csv', 'r') as inf, open('file.csv','w') as outf:\n",
    "    reader = csv.reader(inf)\n",
    "    writer = csv.writer(outf, delimiter='\\t', quotechar='\"', quoting=csv.QUOTE_MINIMAL)\n",
    "    for row in reader:\n",
    "        if row[18] in search_for:\n",
    "            print('Found: {}'.format(row))\n",
    "            \n",
    "            writer.writerow(row)\n",
    "            \n",
    "#Add headers\n",
    "file = pd.read_csv('file.csv', delimiter='\\t', names = ['Matches_Sample', 'Rank_Sample', 'Frequency_Sample', 'Count_Sample', 'CDR3aa_Sample', 'V_Sample', 'J_Sample', 'CDR3nt_Sample', 'vEnd_Sample', 'jStart_Sample', 'complex_id_DB', 'Match_Score', 'Weight', 'Gene_DB', 'CDR3_DB', 'V_DB', 'J_DB', 'Species_DB', 'MHC_A_DB', 'MHC_B_DB', 'MHC_class_DB', 'Epitope_DB', 'Epitope_gene_DB', 'Epitope_species_DB', 'Reference_DB', 'Method_DB', 'Meta_DB', 'CDR3fix_DB', 'Score_DB'])\n",
    "print(file)\n",
    "\n",
    "file.to_csv('file.csv')\n",
    "\n",
    "\n"
   ]
  },
  {
   "cell_type": "code",
   "execution_count": 3,
   "metadata": {},
   "outputs": [],
   "source": [
    "#Check epitope gene and species and CDR3 sequences.\n",
    "#to remove duplicate CDR3nt\n",
    "# From the cehecked file Remove duplicate CDR3nt sequences \n",
    "record = pd.read_csv('file.csv')\n",
    "df = record.drop_duplicates('CDR3nt_Sample')#, keep='first')\n",
    "print(df)\n",
    "df.to_csv('file.csv')\n"
   ]
  },
  {
   "cell_type": "code",
   "execution_count": 32,
   "metadata": {},
   "outputs": [],
   "source": [
    "#To select certain column for the manuscript 'optional'\n",
    "import csv\n",
    "import os\n",
    "import numpy as np\n",
    "import pandas as pd\n",
    "#Select certain columns\n",
    "record = pd.read_csv('file.csv')\n",
    "header = [\"CDR3aa_Sample\", \"V_Sample\", \"J_Sample\", \"CDR3_DB\", \"V_DB\", \"J_DB\", \"MHC_A_DB\", \"Epitope_DB\", \"Epitope_gene_DB\", \"Epitope_species_DB\"]\n",
    "record.to_csv('file.csv', columns = header)"
   ]
  },
  {
   "cell_type": "code",
   "execution_count": 24,
   "metadata": {},
   "outputs": [],
   "source": [
    "#for counting epitope species\n",
    "import pandas as pd\n",
    "record = pd.read_csv('file.csv')\n",
    "#record.head() \n",
    "df = record[[\"Count_Sample\", \"Epitope_species_DB\"]]\n",
    "df\n",
    "#All antigens\n",
    "df.to_csv('/file.csv')\n",
    "#Top10 antigen\n",
    "df = df.iloc[:10]\n",
    "df\n",
    "df.to_csv('file.csv')\n"
   ]
  },
  {
   "cell_type": "code",
   "execution_count": 25,
   "metadata": {},
   "outputs": [],
   "source": [
    "#for meta data analysis (for R graphics)\n",
    "import pandas as pd\n",
    "record = pd.read_csv('file.csv')\n",
    "\n",
    "df_all = record['Epitope_species_DB'].value_counts()\n",
    "df_all\n",
    "\n",
    "df_all.to_csv('file.csv', header=None)\n",
    "record = pd.read_csv('file.csv')\n",
    "df_top10 = record['Epitope_species_DB'].value_counts()\n",
    "df_top10\n",
    "df_top10.to_csv('file.csv', header=None)\n"
   ]
  },
  {
   "cell_type": "code",
   "execution_count": 26,
   "metadata": {},
   "outputs": [
    {
     "name": "stdout",
     "output_type": "stream",
     "text": [
      "  Epitope species  Count\n",
      "0             EBV     10\n",
      "1      SARS-CoV-2      4\n",
      "2             CMV      1\n"
     ]
    }
   ],
   "source": [
    "            \n",
    "import pandas as pd\n",
    "#Add headers to competible for R\n",
    "file_all = pd.read_csv('file.csv',  names = ['Epitope species', 'Count'])\n",
    "file_all\n",
    "print(file_all)\n",
    "file_all.to_csv('file.csv')"
   ]
  },
  {
   "cell_type": "code",
   "execution_count": 29,
   "metadata": {},
   "outputs": [
    {
     "name": "stdout",
     "output_type": "stream",
     "text": [
      "  Epitope species  Count\n",
      "0             EBV     10\n",
      "1      SARS-CoV-2      4\n",
      "2             CMV      1\n"
     ]
    }
   ],
   "source": [
    "import pandas as pd\n",
    "#Add headers to competible for R\n",
    "file_top10 = pd.read_csv('file.csv',  names = ['Epitope species', 'Count'])\n",
    "file_top10\n",
    "print(file_top10)\n",
    "file_top10.to_csv('/file.csv')"
   ]
  },
  {
   "cell_type": "code",
   "execution_count": null,
   "metadata": {},
   "outputs": [],
   "source": []
  }
 ],
 "metadata": {
  "kernelspec": {
   "display_name": "Python 3.8.5 64-bit ('base': conda)",
   "name": "python385jvsc74a57bd09c49c733c021723d196ac720a4ef957ac0cd12fc16dcaec74fb708731994343e"
  },
  "language_info": {
   "codemirror_mode": {
    "name": "ipython",
    "version": 3
   },
   "file_extension": ".py",
   "mimetype": "text/x-python",
   "name": "python",
   "nbconvert_exporter": "python",
   "pygments_lexer": "ipython3",
   "version": "3.8.5"
  },
  "orig_nbformat": 3
 },
 "nbformat": 4,
 "nbformat_minor": 2
}
